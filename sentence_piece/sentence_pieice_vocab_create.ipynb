{
 "cells": [
  {
   "cell_type": "markdown",
   "metadata": {},
   "source": [
    "# Sentencepiece를 활용해 Vocab 만들기"
   ]
  },
  {
   "cell_type": "markdown",
   "metadata": {},
   "source": [
    "## 1. 말뭉치 만들기(한국어위키)"
   ]
  },
  {
   "cell_type": "markdown",
   "metadata": {},
   "source": [
    "### [web-crawler](https://github.com/paul-hyun/web-crawler.git) 를 이용해서 말뭉치 다운로드 받고 변환\n"
   ]
  },
  {
   "cell_type": "code",
   "execution_count": 1,
   "metadata": {},
   "outputs": [],
   "source": [
    "import pandas as pd\n",
    "\n",
    "in_file = '../../data/kowiki/kowiki_20200722.csv'\n",
    "out_file = '../../data/kowiki/kowiki.txt'\n",
    "SEPARATOR = u\"\\u241D\"\n",
    "df = pd.read_csv(in_file, sep=SEPARATOR, engine=\"python\")\n",
    "with open(out_file, \"w\") as f:\n",
    "    for index, row in df.iterrows():\n",
    "        f.write(row[\"text\"]) # title 과 text를 중복 되므로 text만 저장 함\n",
    "        f.write(\"\\n\\n\\n\\n\") # 구분자"
   ]
  },
  {
   "cell_type": "markdown",
   "metadata": {},
   "source": [
    "## 2. Vocab 만들기"
   ]
  },
  {
   "cell_type": "code",
   "execution_count": 11,
   "metadata": {},
   "outputs": [],
   "source": [
    "import sentencepiece as spm\n",
    "\n",
    "corpus = '../../data/kowiki/kowiki_25_percent.txt'\n",
    "prefix = 'kowiki'\n",
    "vocab_size = 8000\n",
    "\n",
    "spm.SentencePieceTrainer.train(\n",
    "    f\"--input={corpus} --model_prefix={prefix} --vocab_size={vocab_size + 7}\" + \n",
    "    \" --model_type=bpe\" +\n",
    "    \" --max_sentence_length=999999\" + # 문장 최대 길이\n",
    "    \" --pad_id=0 --pad_piece=[PAD]\" + # pad (0)\n",
    "    \" --unk_id=1 --unk_piece=[UNK]\" + # unknown (1)\n",
    "    \" --bos_id=2 --bos_piece=[BOS]\" + # begin of sequence (2)\n",
    "    \" --eos_id=3 --eos_piece=[EOS]\" + # end of sequence (3)\n",
    "    \" --user_defined_symbols=[SEP],[CLS],[MASK]\") # 사용자 정의 토큰\n"
   ]
  },
  {
   "cell_type": "markdown",
   "metadata": {},
   "source": [
    "## 3. Vocab 테스트"
   ]
  },
  {
   "cell_type": "code",
   "execution_count": 12,
   "metadata": {},
   "outputs": [
    {
     "name": "stdout",
     "output_type": "stream",
     "text": [
      "겨울이 되어서 날씨가 무척 추워요.\n",
      "['▁겨울', '이', '▁되어', '서', '▁날', '씨', '가', '▁무', '척', '▁추', '워', '요', '.']\n",
      "[2605, 3774, 547, 3789, 638, 4210, 3784, 103, 4363, 189, 4150, 3939, 3778]\n",
      "\n",
      "이번 성탄절은 화이트 크리스마스가 될까요?\n",
      "['▁이', '번', '▁성', '탄', '절', '은', '▁화', '이트', '▁크리스', '마', '스가', '▁될', '까', '요', '?']\n",
      "[7, 4002, 78, 4126, 4095, 3790, 260, 786, 2730, 3858, 703, 1347, 3980, 3939, 4488]\n",
      "\n",
      "겨울에 감기 조심하시고 행복한 연말 되세요.\n",
      "['▁겨울', '에', '▁감', '기', '▁조', '심', '하', '시', '고', '▁행', '복', '한', '▁연', '말', '▁되', '세', '요', '.']\n",
      "[2605, 3776, 236, 3791, 53, 4008, 3780, 3798, 3786, 228, 4035, 3788, 61, 4004, 226, 3853, 3939, 3778]\n",
      "\n"
     ]
    }
   ],
   "source": [
    "import sentencepiece as spm\n",
    "\n",
    "vocab_file = './kowiki.model'\n",
    "vocab = spm.SentencePieceProcessor()\n",
    "vocab.load(vocab_file)\n",
    "\n",
    "lines = [\n",
    "  \"겨울이 되어서 날씨가 무척 추워요.\",\n",
    "  \"이번 성탄절은 화이트 크리스마스가 될까요?\",\n",
    "  \"겨울에 감기 조심하시고 행복한 연말 되세요.\"\n",
    "]\n",
    "\n",
    "for line in lines:\n",
    "    pieces = vocab.encode_as_pieces(line)\n",
    "    ids = vocab.encode_as_ids(line)\n",
    "    print(line)\n",
    "    print(pieces)\n",
    "    print(ids)\n",
    "    print()\n"
   ]
  },
  {
   "cell_type": "markdown",
   "metadata": {},
   "source": [
    "## 4. Naver movie review 데이터 전처리"
   ]
  },
  {
   "cell_type": "code",
   "execution_count": 16,
   "metadata": {},
   "outputs": [],
   "source": [
    "import pandas as pd\n",
    "\n",
    "vocab_file = './kowiki.model'\n",
    "vocab = spm.SentencePieceProcessor()\n",
    "vocab.load(vocab_file)\n",
    "\n",
    "\"\"\" train data 준비 \"\"\"\n",
    "def prepare_train(vocab, infile, outfile):\n",
    "    df = pd.read_csv(infile, sep=\"\\t\", engine=\"python\")\n",
    "    with open(outfile, \"w\") as f:\n",
    "        for index, row in df.iterrows():\n",
    "            document = row[\"document\"]\n",
    "            if type(document) != str:\n",
    "                continue\n",
    "            instance = { \"id\": row[\"id\"], \"doc\": vocab.encode_as_pieces(document), \"label\": row[\"label\"] }\n",
    "            f.write(json.dumps(instance))\n",
    "            f.write(\"\\n\")\n",
    "            \n",
    "naver_movie_path = '../../data/naver_movie'\n",
    "\n",
    "prepare_train(vocab, \n",
    "              f'{naver_movie_path}/ratings_train.txt', \n",
    "              'naver_movie_ratings_train.json')\n",
    "prepare_train(vocab, \n",
    "              f'{naver_movie_path}/ratings_test.txt', \n",
    "              'naver_movie_ratings_test.json')\n"
   ]
  },
  {
   "cell_type": "code",
   "execution_count": 13,
   "metadata": {},
   "outputs": [
    {
     "data": {
      "text/plain": [
       "'../../data/naver_movie/ratings_train.txt'"
      ]
     },
     "execution_count": 13,
     "metadata": {},
     "output_type": "execute_result"
    }
   ],
   "source": [
    "naver_movie_path = '../../data/naver_movie'\n",
    "f'{naver_movie_path}/ratings_train.txt'"
   ]
  },
  {
   "cell_type": "code",
   "execution_count": null,
   "metadata": {},
   "outputs": [],
   "source": []
  }
 ],
 "metadata": {
  "kernelspec": {
   "display_name": "Python (ai)",
   "language": "python",
   "name": "ai"
  },
  "language_info": {
   "codemirror_mode": {
    "name": "ipython",
    "version": 3
   },
   "file_extension": ".py",
   "mimetype": "text/x-python",
   "name": "python",
   "nbconvert_exporter": "python",
   "pygments_lexer": "ipython3",
   "version": "3.6.6"
  },
  "varInspector": {
   "cols": {
    "lenName": 16,
    "lenType": 16,
    "lenVar": 40
   },
   "kernels_config": {
    "python": {
     "delete_cmd_postfix": "",
     "delete_cmd_prefix": "del ",
     "library": "var_list.py",
     "varRefreshCmd": "print(var_dic_list())"
    },
    "r": {
     "delete_cmd_postfix": ") ",
     "delete_cmd_prefix": "rm(",
     "library": "var_list.r",
     "varRefreshCmd": "cat(var_dic_list()) "
    }
   },
   "types_to_exclude": [
    "module",
    "function",
    "builtin_function_or_method",
    "instance",
    "_Feature"
   ],
   "window_display": false
  }
 },
 "nbformat": 4,
 "nbformat_minor": 2
}
